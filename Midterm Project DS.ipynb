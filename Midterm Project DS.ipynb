{
 "cells": [
  {
   "cell_type": "markdown",
   "id": "88239e18",
   "metadata": {},
   "source": [
    "# Erica Cummings Project 1 DS3002"
   ]
  },
  {
   "cell_type": "markdown",
   "id": "50267329",
   "metadata": {},
   "source": [
    "# Importing Necessary Libraries"
   ]
  },
  {
   "cell_type": "code",
   "execution_count": 37,
   "id": "81bbe48c",
   "metadata": {},
   "outputs": [],
   "source": [
    "import pandas as pd\n",
    "import io\n",
    "import os\n",
    "import pymysql\n",
    "from sqlalchemy import create_engine\n"
   ]
  },
  {
   "cell_type": "markdown",
   "id": "8c6c24a9",
   "metadata": {},
   "source": [
    "# Declare & Assign Connection Variables for the MySQL Server & Databases with which I'll be Working"
   ]
  },
  {
   "cell_type": "code",
   "execution_count": 38,
   "id": "5a55181b",
   "metadata": {},
   "outputs": [],
   "source": [
    "host_name = \"localhost\"\n",
    "host_ip = \"127.0.0.1\"\n",
    "port = \"3306\"\n",
    "user_id = \"ericac\"\n",
    "pwd = \"Sch00lus3\"\n",
    "\n",
    "dst_dbname = \"university_dw\""
   ]
  },
  {
   "cell_type": "markdown",
   "id": "d2dfc52b",
   "metadata": {},
   "source": [
    "# Defining Functions For Creating Dataframes from Local Files "
   ]
  },
  {
   "cell_type": "code",
   "execution_count": 39,
   "id": "03eab60f",
   "metadata": {},
   "outputs": [],
   "source": [
    "#this also includes try and except statements as required for the project\n",
    "def filetoDF(file):\n",
    "    try:\n",
    "        df = pd.read_csv(file)\n",
    "    except FileNotFoundError:\n",
    "        print(\"Error: File not found.\")\n",
    "    except pd.errors.EmptyDataError:\n",
    "        print(\"Error: there is no data in this file.\")\n",
    "    except pd.errors.ParserError:\n",
    "        print(\"Error encountered when parsing file.\")\n",
    "    except Exception:\n",
    "        print(\"Error: An exception occurred.\")\n",
    "    return df"
   ]
  },
  {
   "cell_type": "markdown",
   "id": "19d083d2",
   "metadata": {},
   "source": [
    "Creating a Dataframe from file found at https://www.kaggle.com/datasets/padhmam/qs-world-university-rankings-2017-2022?resource=download"
   ]
  },
  {
   "cell_type": "code",
   "execution_count": 40,
   "id": "801c3cc5",
   "metadata": {},
   "outputs": [
    {
     "data": {
      "text/html": [
       "<div>\n",
       "<style scoped>\n",
       "    .dataframe tbody tr th:only-of-type {\n",
       "        vertical-align: middle;\n",
       "    }\n",
       "\n",
       "    .dataframe tbody tr th {\n",
       "        vertical-align: top;\n",
       "    }\n",
       "\n",
       "    .dataframe thead th {\n",
       "        text-align: right;\n",
       "    }\n",
       "</style>\n",
       "<table border=\"1\" class=\"dataframe\">\n",
       "  <thead>\n",
       "    <tr style=\"text-align: right;\">\n",
       "      <th></th>\n",
       "      <th>university</th>\n",
       "      <th>year</th>\n",
       "      <th>rank_display</th>\n",
       "      <th>score</th>\n",
       "      <th>link</th>\n",
       "      <th>country</th>\n",
       "      <th>city</th>\n",
       "      <th>region</th>\n",
       "      <th>logo</th>\n",
       "      <th>type</th>\n",
       "      <th>research_output</th>\n",
       "      <th>student_faculty_ratio</th>\n",
       "      <th>international_students</th>\n",
       "      <th>size</th>\n",
       "      <th>faculty_count</th>\n",
       "    </tr>\n",
       "  </thead>\n",
       "  <tbody>\n",
       "    <tr>\n",
       "      <th>0</th>\n",
       "      <td>Massachusetts Institute of Technology (MIT)</td>\n",
       "      <td>2017</td>\n",
       "      <td>1</td>\n",
       "      <td>100.0</td>\n",
       "      <td>https://www.topuniversities.com/universities/m...</td>\n",
       "      <td>United States</td>\n",
       "      <td>Cambridge</td>\n",
       "      <td>North America</td>\n",
       "      <td>https://www.topuniversities.com/sites/default/...</td>\n",
       "      <td>Private</td>\n",
       "      <td>Very High</td>\n",
       "      <td>4.0</td>\n",
       "      <td>3,730</td>\n",
       "      <td>M</td>\n",
       "      <td>3,065</td>\n",
       "    </tr>\n",
       "    <tr>\n",
       "      <th>1</th>\n",
       "      <td>Stanford University</td>\n",
       "      <td>2017</td>\n",
       "      <td>2</td>\n",
       "      <td>98.7</td>\n",
       "      <td>https://www.topuniversities.com/universities/s...</td>\n",
       "      <td>United States</td>\n",
       "      <td>Stanford</td>\n",
       "      <td>North America</td>\n",
       "      <td>https://www.topuniversities.com/sites/default/...</td>\n",
       "      <td>Private</td>\n",
       "      <td>Very High</td>\n",
       "      <td>3.0</td>\n",
       "      <td>3,879</td>\n",
       "      <td>L</td>\n",
       "      <td>4,725</td>\n",
       "    </tr>\n",
       "  </tbody>\n",
       "</table>\n",
       "</div>"
      ],
      "text/plain": [
       "                                     university  year rank_display  score  \\\n",
       "0  Massachusetts Institute of Technology (MIT)   2017            1  100.0   \n",
       "1                           Stanford University  2017            2   98.7   \n",
       "\n",
       "                                                link        country  \\\n",
       "0  https://www.topuniversities.com/universities/m...  United States   \n",
       "1  https://www.topuniversities.com/universities/s...  United States   \n",
       "\n",
       "        city         region  \\\n",
       "0  Cambridge  North America   \n",
       "1   Stanford  North America   \n",
       "\n",
       "                                                logo     type research_output  \\\n",
       "0  https://www.topuniversities.com/sites/default/...  Private       Very High   \n",
       "1  https://www.topuniversities.com/sites/default/...  Private       Very High   \n",
       "\n",
       "   student_faculty_ratio international_students size faculty_count  \n",
       "0                    4.0                  3,730    M         3,065  \n",
       "1                    3.0                  3,879    L         4,725  "
      ]
     },
     "execution_count": 40,
     "metadata": {},
     "output_type": "execute_result"
    }
   ],
   "source": [
    "uniDF = filetoDF(\"qs-world-university-rankings-2017-to-2022-V2.csv\")\n",
    "uniDF.head(2)"
   ]
  },
  {
   "cell_type": "markdown",
   "id": "61546042",
   "metadata": {},
   "source": [
    "# Dropping Columns"
   ]
  },
  {
   "cell_type": "markdown",
   "id": "22cee41a",
   "metadata": {},
   "source": [
    "**Requirement 3\tModify the number of columns from the source to the destination, reducing or adding columns\"**\n",
    "\n",
    "I did not think the websites were relevant and were very long compared to the other columns. I also rename rank_display to simply be rank."
   ]
  },
  {
   "cell_type": "code",
   "execution_count": 41,
   "id": "dc20b865",
   "metadata": {},
   "outputs": [
    {
     "data": {
      "text/html": [
       "<div>\n",
       "<style scoped>\n",
       "    .dataframe tbody tr th:only-of-type {\n",
       "        vertical-align: middle;\n",
       "    }\n",
       "\n",
       "    .dataframe tbody tr th {\n",
       "        vertical-align: top;\n",
       "    }\n",
       "\n",
       "    .dataframe thead th {\n",
       "        text-align: right;\n",
       "    }\n",
       "</style>\n",
       "<table border=\"1\" class=\"dataframe\">\n",
       "  <thead>\n",
       "    <tr style=\"text-align: right;\">\n",
       "      <th></th>\n",
       "      <th>university</th>\n",
       "      <th>year</th>\n",
       "      <th>rank</th>\n",
       "      <th>score</th>\n",
       "      <th>country</th>\n",
       "      <th>city</th>\n",
       "      <th>region</th>\n",
       "      <th>type</th>\n",
       "      <th>research_output</th>\n",
       "      <th>student_faculty_ratio</th>\n",
       "      <th>international_students</th>\n",
       "      <th>size</th>\n",
       "      <th>faculty_count</th>\n",
       "    </tr>\n",
       "  </thead>\n",
       "  <tbody>\n",
       "    <tr>\n",
       "      <th>0</th>\n",
       "      <td>Massachusetts Institute of Technology (MIT)</td>\n",
       "      <td>2017</td>\n",
       "      <td>1</td>\n",
       "      <td>100.0</td>\n",
       "      <td>United States</td>\n",
       "      <td>Cambridge</td>\n",
       "      <td>North America</td>\n",
       "      <td>Private</td>\n",
       "      <td>Very High</td>\n",
       "      <td>4.0</td>\n",
       "      <td>3,730</td>\n",
       "      <td>M</td>\n",
       "      <td>3,065</td>\n",
       "    </tr>\n",
       "    <tr>\n",
       "      <th>1</th>\n",
       "      <td>Stanford University</td>\n",
       "      <td>2017</td>\n",
       "      <td>2</td>\n",
       "      <td>98.7</td>\n",
       "      <td>United States</td>\n",
       "      <td>Stanford</td>\n",
       "      <td>North America</td>\n",
       "      <td>Private</td>\n",
       "      <td>Very High</td>\n",
       "      <td>3.0</td>\n",
       "      <td>3,879</td>\n",
       "      <td>L</td>\n",
       "      <td>4,725</td>\n",
       "    </tr>\n",
       "    <tr>\n",
       "      <th>2</th>\n",
       "      <td>Harvard University</td>\n",
       "      <td>2017</td>\n",
       "      <td>3</td>\n",
       "      <td>98.3</td>\n",
       "      <td>United States</td>\n",
       "      <td>Cambridge</td>\n",
       "      <td>North America</td>\n",
       "      <td>Private</td>\n",
       "      <td>Very High</td>\n",
       "      <td>5.0</td>\n",
       "      <td>5,877</td>\n",
       "      <td>L</td>\n",
       "      <td>4,646</td>\n",
       "    </tr>\n",
       "    <tr>\n",
       "      <th>3</th>\n",
       "      <td>University of Cambridge</td>\n",
       "      <td>2017</td>\n",
       "      <td>4</td>\n",
       "      <td>97.2</td>\n",
       "      <td>United Kingdom</td>\n",
       "      <td>Cambridge</td>\n",
       "      <td>Europe</td>\n",
       "      <td>Public</td>\n",
       "      <td>Very high</td>\n",
       "      <td>4.0</td>\n",
       "      <td>7,925</td>\n",
       "      <td>L</td>\n",
       "      <td>5,800</td>\n",
       "    </tr>\n",
       "    <tr>\n",
       "      <th>4</th>\n",
       "      <td>California Institute of Technology (Caltech)</td>\n",
       "      <td>2017</td>\n",
       "      <td>5</td>\n",
       "      <td>96.9</td>\n",
       "      <td>United States</td>\n",
       "      <td>Pasadena</td>\n",
       "      <td>North America</td>\n",
       "      <td>Private</td>\n",
       "      <td>Very High</td>\n",
       "      <td>2.0</td>\n",
       "      <td>692</td>\n",
       "      <td>S</td>\n",
       "      <td>968</td>\n",
       "    </tr>\n",
       "  </tbody>\n",
       "</table>\n",
       "</div>"
      ],
      "text/plain": [
       "                                     university  year rank  score  \\\n",
       "0  Massachusetts Institute of Technology (MIT)   2017    1  100.0   \n",
       "1                           Stanford University  2017    2   98.7   \n",
       "2                            Harvard University  2017    3   98.3   \n",
       "3                       University of Cambridge  2017    4   97.2   \n",
       "4  California Institute of Technology (Caltech)  2017    5   96.9   \n",
       "\n",
       "          country       city         region     type research_output  \\\n",
       "0   United States  Cambridge  North America  Private       Very High   \n",
       "1   United States   Stanford  North America  Private       Very High   \n",
       "2   United States  Cambridge  North America  Private       Very High   \n",
       "3  United Kingdom  Cambridge         Europe   Public       Very high   \n",
       "4   United States   Pasadena  North America  Private       Very High   \n",
       "\n",
       "   student_faculty_ratio international_students size faculty_count  \n",
       "0                    4.0                  3,730    M         3,065  \n",
       "1                    3.0                  3,879    L         4,725  \n",
       "2                    5.0                  5,877    L         4,646  \n",
       "3                    4.0                  7,925    L         5,800  \n",
       "4                    2.0                    692    S           968  "
      ]
     },
     "execution_count": 41,
     "metadata": {},
     "output_type": "execute_result"
    }
   ],
   "source": [
    "drop_cols=['logo','link']\n",
    "uniDF.drop(drop_cols, axis=1, inplace=True)\n",
    "uniDF.rename(columns={\"rank_display\":\"rank\"}, inplace=True)\n",
    "uniDF.head()\n"
   ]
  },
  {
   "cell_type": "markdown",
   "id": "9e03c2df",
   "metadata": {},
   "source": [
    "# Function for Setting Data Into Databases"
   ]
  },
  {
   "cell_type": "code",
   "execution_count": 42,
   "id": "d12f328a",
   "metadata": {},
   "outputs": [],
   "source": [
    "def set_dataframe(user_id, pwd, host_name, db_name, df, table_name, db_operation):\n",
    "    conn_str = f\"mysql+pymysql://{user_id}:{pwd}@{host_name}/{db_name}\"\n",
    "    sqlEngine = create_engine(conn_str, pool_recycle=3600)\n",
    "    connection = sqlEngine.connect()\n",
    "    \n",
    "    if db_operation == \"insert\":\n",
    "        try:\n",
    "            df.to_sql(table_name, con=connection, index=False, if_exists='replace')\n",
    "        except ValueError:\n",
    "            print(\"Error: this table already exists\")\n",
    "            \n",
    "    elif db_operation == \"update\":\n",
    "        df.to_sql(table_name, con=connection, index=False, if_exists='append')\n",
    "    \n",
    "    connection.close()"
   ]
  },
  {
   "cell_type": "markdown",
   "id": "469f1d66",
   "metadata": {},
   "source": [
    "# Creating the New Data Warehouse Database"
   ]
  },
  {
   "cell_type": "code",
   "execution_count": 43,
   "id": "324954e5",
   "metadata": {},
   "outputs": [
    {
     "data": {
      "text/plain": [
       "<sqlalchemy.engine.cursor.LegacyCursorResult at 0x11e3d6970>"
      ]
     },
     "execution_count": 43,
     "metadata": {},
     "output_type": "execute_result"
    }
   ],
   "source": [
    "conn_str = f\"mysql+pymysql://{user_id}:{pwd}@{host_name}\"\n",
    "sqlEngine = create_engine(conn_str, pool_recycle=3600)\n",
    "\n",
    "sqlEngine.execute(f\"DROP DATABASE IF EXISTS `{dst_dbname}`;\")\n",
    "sqlEngine.execute(f\"CREATE DATABASE `{dst_dbname}`;\")\n",
    "sqlEngine.execute(f\"USE {dst_dbname};\")"
   ]
  },
  {
   "cell_type": "markdown",
   "id": "838cb657",
   "metadata": {},
   "source": [
    "# Load the Transformed DataFrame into the New Data Warehouse by Creating A New Table"
   ]
  },
  {
   "cell_type": "markdown",
   "id": "4a3fc279",
   "metadata": {},
   "source": [
    "**Requirement 4\t\"The converted (new) file should be written to disk (local file) or written to a SQL database.\" In this case, a SQL database specifically**"
   ]
  },
  {
   "cell_type": "code",
   "execution_count": 44,
   "id": "4729931b",
   "metadata": {},
   "outputs": [],
   "source": [
    "db_operation = \"insert\"\n",
    "\n",
    "set_dataframe(user_id, pwd, host_name, dst_dbname, uniDF, 'uni_table', db_operation)  "
   ]
  },
  {
   "cell_type": "markdown",
   "id": "499cbcae",
   "metadata": {},
   "source": [
    "# Summarizing Data"
   ]
  },
  {
   "cell_type": "markdown",
   "id": "5adff0ae",
   "metadata": {},
   "source": [
    "**Requirement 5 \"Generate a brief summary of the data file ingestion including: \n",
    "a)\tNumber of records \n",
    "b)\tNumber of columns \"**"
   ]
  },
  {
   "cell_type": "code",
   "execution_count": 45,
   "id": "33b1aa82",
   "metadata": {},
   "outputs": [
    {
     "name": "stdout",
     "output_type": "stream",
     "text": [
      "The number of records is 6482\n",
      "The number of columns is 13\n"
     ]
    }
   ],
   "source": [
    "records= len(uniDF)\n",
    "print(\"The number of records is\", records)\n",
    "columns=len(uniDF.columns)\n",
    "print(\"The number of columns is\", columns)"
   ]
  },
  {
   "cell_type": "code",
   "execution_count": null,
   "id": "cb93bf03",
   "metadata": {},
   "outputs": [],
   "source": []
  }
 ],
 "metadata": {
  "kernelspec": {
   "display_name": "Python 3 (ipykernel)",
   "language": "python",
   "name": "python3"
  },
  "language_info": {
   "codemirror_mode": {
    "name": "ipython",
    "version": 3
   },
   "file_extension": ".py",
   "mimetype": "text/x-python",
   "name": "python",
   "nbconvert_exporter": "python",
   "pygments_lexer": "ipython3",
   "version": "3.9.7"
  }
 },
 "nbformat": 4,
 "nbformat_minor": 5
}
